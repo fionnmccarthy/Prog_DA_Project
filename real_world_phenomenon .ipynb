{
 "cells": [
  {
   "cell_type": "markdown",
   "id": "3ee31596-8593-46c6-ae1c-821acf7cd84a",
   "metadata": {},
   "source": [
    "***\n",
    "***\n",
    "# Programming for Data Analysis Project \n",
    "***\n",
    "***\n",
    "\n",
    "## Simulating a Data Set for a Real-world Phenomenon\n",
    "\n",
    "## Fionn McCarthy\n",
    "\n",
    "## Project Scope\n",
    "The aim of this project is to create a data set by simulation of a real-world phenomenon of choice. This jupyter notebook will detail the research and investigation into this real-world phenomenon and how the different variables in the data set relate to each and how they are derived. \n",
    "\n",
    "I will carry out research into variables of interest in this area and utilize the different libraries and functions available in python in order to create the dataset. For the purpose of this project I wanted to simulate the real-world phenomenon of emergency department data, I have a backgroud in healthcare and I think it would be interesting to simulate data based on the emergency department. I decided to explore many different variables for the simulation of this dataset. I aim to generate a dataset that will show a patients record for admission (yes/no), whether patient did not wait to be seen, triage category, patient wait times (total time in the emergency department), arrival by ambulance, source of referral, patient gender and patients age. \n",
    "\n",
    "![xplotoutput](images/ed.jpg)\n",
    "\n",
    "In Ireland Emergency Departments bear a constant headline in the news on a daily basis, this is prior to the current COVID-19 pandemic and has also been a constant presence throughout the pandemic and it appears to be an issue that may seem to be in the public health sector for quite some time in our future. I found an annual review from UL Hospitals Group available online for 2019 which detailed some figures around the emergency department, the Emergency Department at UHL in Limerick had on average of 195 patients per day over the course of 2019 with a total of 71,315 patients presenting in 2019(https://healthservice.hse.ie/filelibrary/ulh/ul-hospitals-group-annual-review-2019.pdf). UL Hospitals Group is a Public Acute Hospital Acute catering for the mid-west region of Ireland catering for a population of approximately 473,000 people across Clare, Limerick and North Tipperary(https://healthservice.hse.ie/healthcare-delivery/ul-hospitals-group/about-ul-hospitals-group/about-ul-hospitals-group.html). I will generate a dataset containing data based off one day of hospital emergency department attendances. \n",
    "***\n",
    "***"
   ]
  },
  {
   "cell_type": "markdown",
   "id": "e082218b-1e23-4a4a-8175-03632609f44e",
   "metadata": {},
   "source": [
    "# Variables of Interest\n",
    "***\n",
    "## Admission (yes/no)\n",
    "I decided the most interesting variable from the emergency department was whether the patient was admitted as an inpatient or not, as generally whether or not the patient needed to be admitted as an inpatient would be determined by how ill the patient would be when attending the emergency department along with other patient characteristics. I will use the other information on the patients attendance in order to generate this variable. \n",
    "\n",
    "If a patient can be treated at the emergency department and then be sent home again once treated then they will not require admission as an inpatient, an inpatient is a patient that requires an overnight stay on the hospital ward. The hospital ward is a separate section in the hospital to the emergency department. The decision on whether to admit the patient or not would come down to the Senior Emergency Department Consultants with the advice of their team.\n",
    "\n",
    "An analysis of patient characterisitcs at four Irish teaching hospitals in the Dublin area showed that around one in four patients are admitted as inpatients from emergency departments (https://www.lenus.ie/bitstream/handle/10147/296824/CharacteristicsEDAttendances.pdf?sequence=1). \n",
    "\n",
    "The study looks at variables that inlfuence admissions, I will investigate these variables below. I will then utilize these avriables to create the variabble of interest, whetehr or not the patient was admitted.\n",
    "***\n",
    "***"
   ]
  },
  {
   "cell_type": "markdown",
   "id": "96736c19-5063-4501-9ef6-5d851bb26aec",
   "metadata": {},
   "source": [
    "# Influential Variables\n",
    "***\n",
    "## 1. Patient Age\n",
    "In a study conducted in four Irish teaching hospitals in Dublin it was shown that patients in an age category of 15 to 24 years old are seven times less likely to be admitted than patients in the 85 and over category https://www.lenus.ie/bitstream/handle/10147/296824/CharacteristicsEDAttendances.pdf?sequence=1. Therefore this variable would have a significant effect on our variable of interest, whether or not the patient was admitted. The older the age of the patient seems to mean an increase risk in hospital admission.  \n",
    "\n",
    "The variable patient age is the age of the patient at the time of registration to the emergency department. There age of patients attending an emergency department will depend on age cohorts of patients in that particular region. In 2019 the Department of Health prepared a paper called 'Health in Ireland' where it provides summary information on health and healthcare in Ireland over the previous ten years https://assets.gov.ie/45117/6a4f970018d6477bac38f4539f80e927.pdf. The population characteristics presenetd in this publication are based off the 2016 cencus and projections are made for figures for the 2019 year. The below image derives the population distributions across Ireland for 2019: \n",
    "\n",
    "![xplotoutput](images/population.png)\n",
    "\n",
    "I will utilize the above information in order to simulate the age demographic of each patient within the dataset. I will uniformly distribute the age of each patient between each age category. "
   ]
  },
  {
   "cell_type": "code",
   "execution_count": 1,
   "id": "5029fe22-df86-42d7-bce2-d8f9c95d7a6a",
   "metadata": {},
   "outputs": [
    {
     "data": {
      "text/plain": [
       "Text(0, 0.5, 'Frequency')"
      ]
     },
     "execution_count": 1,
     "metadata": {},
     "output_type": "execute_result"
    },
    {
     "data": {
      "image/png": "[encoded data removed]",
      "text/plain": [
       "<Figure size 1080x720 with 1 Axes>"
      ]
     },
     "metadata": {
      "needs_background": "light"
     },
     "output_type": "display_data"
    }
   ],
   "source": [
    "# https://www.geeksforgeeks.org/create-a-pandas-dataframe-from-lists/\n",
    "# import pandas as pd\n",
    "import pandas as pd\n",
    "\n",
    "# list of age groups\n",
    "age = ['0-14', '15-24', '25-34', '35-44', '45-54', '55-64', '65-74', '75-84', '85+']\n",
    "\n",
    "# list of populations in 000's\n",
    "population = [1008.9, 618.0, 620.0, 776.9, 661.6, 539.7, 404.1, 214.9, 77.3]\n",
    "\n",
    "# sum population \n",
    "population_total = 1008.9 + 618.0 + 620.0 + 776.9 + 661.6 + 539.7 + 404.1 + 214.9 + 77.3\n",
    "\n",
    "#  create array of population percent \n",
    "population_percent = [(i / population_total)*100 for i in population]\n",
    "\n",
    "#creating pandas dataframe\n",
    "df = pd.DataFrame(list(zip(age, population, population_percent)), columns =['Age_Cat', 'Population in 000s', 'Pop%'])\n",
    "df\n",
    "\n",
    "#font type set\n",
    "font_1 = {'family':'sans-serif','color':'black','size':16} \n",
    "font_2 = {'family':'sans-serif','color':'black','size':24} \n",
    "\n",
    "#barplot of dataframe\n",
    "ax = df.plot.bar(x='Age_Cat', y='Population in 000s', rot=0, figsize=(15, 10), fontsize=12)\n",
    "ax.set_title(\"Ireland Population in Thousands by Age Category\", fontdict=font_2)\n",
    "ax.set_xlabel(\"Age Category\", fontdict=font_1)\n",
    "ax.set_ylabel(\"Frequency\", fontdict=font_1)  "
   ]
  },
  {
   "cell_type": "markdown",
   "id": "712b48d8-4d2d-4805-8400-ad76ee0b03bd",
   "metadata": {},
   "source": [
    "The above plot shows that the population in Ireland is positively skewed or also skewed to the right. "
   ]
  },
  {
   "cell_type": "code",
   "execution_count": 2,
   "id": "09f461d4-d308-43f4-abaa-ad1dc782afe7",
   "metadata": {},
   "outputs": [
    {
     "data": {
      "text/html": [
       "<div>\n",
       "<style scoped>\n",
       "    .dataframe tbody tr th:only-of-type {\n",
       "        vertical-align: middle;\n",
       "    }\n",
       "\n",
       "    .dataframe tbody tr th {\n",
       "        vertical-align: top;\n",
       "    }\n",
       "\n",
       "    .dataframe thead th {\n",
       "        text-align: right;\n",
       "    }\n",
       "</style>\n",
       "<table border=\"1\" class=\"dataframe\">\n",
       "  <thead>\n",
       "    <tr style=\"text-align: right;\">\n",
       "      <th></th>\n",
       "      <th>Age_Cat</th>\n",
       "      <th>Population in 000s</th>\n",
       "      <th>Pop%</th>\n",
       "    </tr>\n",
       "  </thead>\n",
       "  <tbody>\n",
       "    <tr>\n",
       "      <th>0</th>\n",
       "      <td>0-14</td>\n",
       "      <td>1008.9</td>\n",
       "      <td>20.500264</td>\n",
       "    </tr>\n",
       "    <tr>\n",
       "      <th>1</th>\n",
       "      <td>15-24</td>\n",
       "      <td>618.0</td>\n",
       "      <td>12.557402</td>\n",
       "    </tr>\n",
       "    <tr>\n",
       "      <th>2</th>\n",
       "      <td>25-34</td>\n",
       "      <td>620.0</td>\n",
       "      <td>12.598041</td>\n",
       "    </tr>\n",
       "    <tr>\n",
       "      <th>3</th>\n",
       "      <td>35-44</td>\n",
       "      <td>776.9</td>\n",
       "      <td>15.786158</td>\n",
       "    </tr>\n",
       "    <tr>\n",
       "      <th>4</th>\n",
       "      <td>45-54</td>\n",
       "      <td>661.6</td>\n",
       "      <td>13.443329</td>\n",
       "    </tr>\n",
       "    <tr>\n",
       "      <th>5</th>\n",
       "      <td>55-64</td>\n",
       "      <td>539.7</td>\n",
       "      <td>10.966392</td>\n",
       "    </tr>\n",
       "    <tr>\n",
       "      <th>6</th>\n",
       "      <td>65-74</td>\n",
       "      <td>404.1</td>\n",
       "      <td>8.211078</td>\n",
       "    </tr>\n",
       "    <tr>\n",
       "      <th>7</th>\n",
       "      <td>75-84</td>\n",
       "      <td>214.9</td>\n",
       "      <td>4.366644</td>\n",
       "    </tr>\n",
       "    <tr>\n",
       "      <th>8</th>\n",
       "      <td>85+</td>\n",
       "      <td>77.3</td>\n",
       "      <td>1.570691</td>\n",
       "    </tr>\n",
       "  </tbody>\n",
       "</table>\n",
       "</div>"
      ],
      "text/plain": [
       "  Age_Cat  Population in 000s       Pop%\n",
       "0    0-14              1008.9  20.500264\n",
       "1   15-24               618.0  12.557402\n",
       "2   25-34               620.0  12.598041\n",
       "3   35-44               776.9  15.786158\n",
       "4   45-54               661.6  13.443329\n",
       "5   55-64               539.7  10.966392\n",
       "6   65-74               404.1   8.211078\n",
       "7   75-84               214.9   4.366644\n",
       "8     85+                77.3   1.570691"
      ]
     },
     "execution_count": 2,
     "metadata": {},
     "output_type": "execute_result"
    }
   ],
   "source": [
    "df"
   ]
  },
  {
   "cell_type": "markdown",
   "id": "275c07de-5208-4ef1-99fe-92a737d31114",
   "metadata": {},
   "source": [
    "Given the above research I found it would be best to unifromly distribute the data beween each age bucket. I will use the percentage breakdown in each case to simulate the population sample. I will assume a max age of 100 for the purpose of this simulation. Therefore I will generate the data as follows:\n",
    "* 20% between 0 and 14.\n",
    "* 13% between 15 and 24.\n",
    "* 13% between 25 and 34.\n",
    "* 16% between 35 and 44.\n",
    "* 13% between 45 and 54.\n",
    "* 11% between 55 and 64.\n",
    "* 8% between 65 and 74.\n",
    "* 4% between 75 and 84.\n",
    "* 2% between 85 and 100.\n",
    "\n",
    "I will use the NumPy library in order to generate these randome integers between these ages categories and create a dataframe. "
   ]
  },
  {
   "cell_type": "code",
   "execution_count": 3,
   "id": "95e42f7a-9b2e-4677-bb82-fed2bf0db0aa",
   "metadata": {},
   "outputs": [
    {
     "data": {
      "text/html": [
       "<div>\n",
       "<style scoped>\n",
       "    .dataframe tbody tr th:only-of-type {\n",
       "        vertical-align: middle;\n",
       "    }\n",
       "\n",
       "    .dataframe tbody tr th {\n",
       "        vertical-align: top;\n",
       "    }\n",
       "\n",
       "    .dataframe thead th {\n",
       "        text-align: right;\n",
       "    }\n",
       "</style>\n",
       "<table border=\"1\" class=\"dataframe\">\n",
       "  <thead>\n",
       "    <tr style=\"text-align: right;\">\n",
       "      <th></th>\n",
       "      <th>age</th>\n",
       "    </tr>\n",
       "  </thead>\n",
       "  <tbody>\n",
       "    <tr>\n",
       "      <th>13</th>\n",
       "      <td>2</td>\n",
       "    </tr>\n",
       "    <tr>\n",
       "      <th>93</th>\n",
       "      <td>40</td>\n",
       "    </tr>\n",
       "    <tr>\n",
       "      <th>26</th>\n",
       "      <td>10</td>\n",
       "    </tr>\n",
       "    <tr>\n",
       "      <th>4</th>\n",
       "      <td>6</td>\n",
       "    </tr>\n",
       "    <tr>\n",
       "      <th>162</th>\n",
       "      <td>62</td>\n",
       "    </tr>\n",
       "    <tr>\n",
       "      <th>...</th>\n",
       "      <td>...</td>\n",
       "    </tr>\n",
       "    <tr>\n",
       "      <th>183</th>\n",
       "      <td>69</td>\n",
       "    </tr>\n",
       "    <tr>\n",
       "      <th>34</th>\n",
       "      <td>13</td>\n",
       "    </tr>\n",
       "    <tr>\n",
       "      <th>6</th>\n",
       "      <td>6</td>\n",
       "    </tr>\n",
       "    <tr>\n",
       "      <th>75</th>\n",
       "      <td>30</td>\n",
       "    </tr>\n",
       "    <tr>\n",
       "      <th>83</th>\n",
       "      <td>31</td>\n",
       "    </tr>\n",
       "  </tbody>\n",
       "</table>\n",
       "<p>200 rows × 1 columns</p>\n",
       "</div>"
      ],
      "text/plain": [
       "     age\n",
       "13     2\n",
       "93    40\n",
       "26    10\n",
       "4      6\n",
       "162   62\n",
       "..   ...\n",
       "183   69\n",
       "34    13\n",
       "6      6\n",
       "75    30\n",
       "83    31\n",
       "\n",
       "[200 rows x 1 columns]"
      ]
     },
     "execution_count": 3,
     "metadata": {},
     "output_type": "execute_result"
    }
   ],
   "source": [
    "import numpy as np\n",
    "\n",
    "#set seed\n",
    "rng = np.random.default_rng(2)\n",
    "\n",
    "a = rng.integers(0,15, size=40)\n",
    "b = rng.integers(15,25, size=26)\n",
    "c = rng.integers(25,35, size=26)\n",
    "d = rng.integers(35,45, size=32)\n",
    "e = rng.integers(45,55, size=26)\n",
    "f = rng.integers(55,65, size=22)\n",
    "g = rng.integers(65,75, size=16)\n",
    "h = rng.integers(75,85, size=8)\n",
    "i = rng.integers(85,100, size=4)\n",
    "\n",
    "age_a = pd.DataFrame(a,  columns=[\"age\"])\n",
    "age_b = pd.DataFrame(b,  columns=[\"age\"])\n",
    "age_c = pd.DataFrame(c,  columns=[\"age\"])\n",
    "age_d = pd.DataFrame(d,  columns=[\"age\"])\n",
    "age_e = pd.DataFrame(e,  columns=[\"age\"])\n",
    "age_f = pd.DataFrame(f,  columns=[\"age\"])\n",
    "age_g = pd.DataFrame(g,  columns=[\"age\"])\n",
    "age_h = pd.DataFrame(h,  columns=[\"age\"])\n",
    "age_i = pd.DataFrame(i,  columns=[\"age\"])\n",
    "#age_df\n",
    "\n",
    "age_df = pd.concat([age_a, age_b, age_c, age_d, age_e, age_f, age_g, age_h, age_i], ignore_index=True)\n",
    "age_df = age_df.sample(frac=1)\n",
    "age_df"
   ]
  },
  {
   "cell_type": "code",
   "execution_count": 4,
   "id": "6fe0e338-90c9-4174-ac03-dbbad6443175",
   "metadata": {},
   "outputs": [
    {
     "data": {
      "image/png": "[encoded data removed]",
      "text/plain": [
       "<Figure size 1440x720 with 1 Axes>"
      ]
     },
     "metadata": {
      "needs_background": "light"
     },
     "output_type": "display_data"
    }
   ],
   "source": [
    "import matplotlib.pyplot as plt\n",
    "\n",
    "# figure size\n",
    "plt.figure(figsize=(20,10))\n",
    "\n",
    "font_1 = {'family':'sans-serif','color':'black','size':16} \n",
    "\n",
    "#plot histogram\n",
    "plt.hist(age_df)\n",
    "\n",
    "# adding title and labels\n",
    "plt.title('Histogram of Age Distibution', fontdict = font_1)\n",
    "plt.ylabel('Frequency', fontdict = font_1)\n",
    "plt.xlabel('Age', fontdict = font_1)\n",
    "\n",
    "# legend on plot\n",
    "plt.show()"
   ]
  },
  {
   "cell_type": "markdown",
   "id": "768c2f0d-c60e-4a24-ab7e-9d38017e0b85",
   "metadata": {},
   "source": [
    "***\n",
    "## 2. Triage Category \n",
    "In the study conducted in four Irish teaching hospitals in Dublin it was shown that patients triage category would have a significant impact on the patients outcome within the emergency department  https://www.lenus.ie/bitstream/handle/10147/296824/CharacteristicsEDAttendances.pdf?sequence=1. This would make sense as a triage nurse with clinical experience will be assigning each patient their urgnecy category and if a patient is more urgent it would generally mean their injury is more serious and then this would possibly lead to a higher risk of hospital admission. Therefore this variable would have a significant effect on our variable of interest, whether or not the patient was admitted. The lower the category (more urgent) appears to have an increase in likelihood of hospital admission. \n",
    "\n",
    "Triage category is the Manchester Triage Score system which is utilized across all Irish emergency departments, it enables the triage nurse (nurse who first assesses patient) to evaluate the urgency of the attendance to the emergency department. The triage nurse will assign a clinical priority to the patient upon evaluation whic is solely based off signs and sypmtoms and not from underlying conditions (https://www.hse.ie/eng/services/publications/clinical-strategy-and-programmes/infographic-emergency-medicine.pdf). \n",
    "\n",
    "* **Triage Category 1**: Patient needs immediate attention, often unconcious on arrival and is used in extreme cases(fatal).\n",
    "* **Triage Category 2**: Patient requires very urgent care, often a very serious illness or injury and could be fatal. \n",
    "* **Triage Category 3**: Patient is categorized as urgent, has a relatively serious illness injury or illness.\n",
    "* **Triage Category 4**: Patient is just a standard attendance, and is not categorized as urgent.  \n",
    "* **Triage Category 5**: Pateint here is non-urgent, in most cases is an unneccessary attendance.\n",
    "\n",
    "See image below for how it is categorized in Ireland https://www.hse.ie/eng/services/publications/clinical-strategy-and-programmes/infographic-emergency-medicine.pdf: \n",
    "\n",
    "![xplotoutput](images/triage.jpg)\n",
    "\n",
    "The results of the study carried out in Dublin showed that triage category 4 and 5 patients have a very low likelihood of admission, a triage category 3 patient has an equal chance of admission where as a triage category 2 patient is four times more likely than a triage category 3 to be admitted. \n",
    "\n",
    "In order to simulate such a categorical varibale, I investigated what proportions of patients attended via each triage categories at other emergency departments around the world. A study on 'Agreement between triage category and patient’s perception of priority in emergency departments' was carried out on across eight emergency department's in Queensland in Australia shows the assigned triage categories for 406 pateints that were sampled. 0.2% were assigned triage category 1, 6.7% triage category 2, 33% triage category 3, 52.5% triage category 4 and 7.6% triage category 5 https://www.ncbi.nlm.nih.gov/pmc/articles/PMC5070359/. "
   ]
  },
  {
   "cell_type": "code",
   "execution_count": 11,
   "id": "da8d1ce2-ab73-45b2-bf2f-45194285fc2d",
   "metadata": {},
   "outputs": [
    {
     "data": {
      "text/html": [
       "<div>\n",
       "<style scoped>\n",
       "    .dataframe tbody tr th:only-of-type {\n",
       "        vertical-align: middle;\n",
       "    }\n",
       "\n",
       "    .dataframe tbody tr th {\n",
       "        vertical-align: top;\n",
       "    }\n",
       "\n",
       "    .dataframe thead th {\n",
       "        text-align: right;\n",
       "    }\n",
       "</style>\n",
       "<table border=\"1\" class=\"dataframe\">\n",
       "  <thead>\n",
       "    <tr style=\"text-align: right;\">\n",
       "      <th></th>\n",
       "      <th>triage_category</th>\n",
       "    </tr>\n",
       "  </thead>\n",
       "  <tbody>\n",
       "    <tr>\n",
       "      <th>0</th>\n",
       "      <td>4</td>\n",
       "    </tr>\n",
       "    <tr>\n",
       "      <th>1</th>\n",
       "      <td>5</td>\n",
       "    </tr>\n",
       "    <tr>\n",
       "      <th>2</th>\n",
       "      <td>3</td>\n",
       "    </tr>\n",
       "    <tr>\n",
       "      <th>3</th>\n",
       "      <td>4</td>\n",
       "    </tr>\n",
       "    <tr>\n",
       "      <th>4</th>\n",
       "      <td>4</td>\n",
       "    </tr>\n",
       "    <tr>\n",
       "      <th>...</th>\n",
       "      <td>...</td>\n",
       "    </tr>\n",
       "    <tr>\n",
       "      <th>195</th>\n",
       "      <td>3</td>\n",
       "    </tr>\n",
       "    <tr>\n",
       "      <th>196</th>\n",
       "      <td>4</td>\n",
       "    </tr>\n",
       "    <tr>\n",
       "      <th>197</th>\n",
       "      <td>5</td>\n",
       "    </tr>\n",
       "    <tr>\n",
       "      <th>198</th>\n",
       "      <td>3</td>\n",
       "    </tr>\n",
       "    <tr>\n",
       "      <th>199</th>\n",
       "      <td>3</td>\n",
       "    </tr>\n",
       "  </tbody>\n",
       "</table>\n",
       "<p>200 rows × 1 columns</p>\n",
       "</div>"
      ],
      "text/plain": [
       "    triage_category\n",
       "0                 4\n",
       "1                 5\n",
       "2                 3\n",
       "3                 4\n",
       "4                 4\n",
       "..              ...\n",
       "195               3\n",
       "196               4\n",
       "197               5\n",
       "198               3\n",
       "199               3\n",
       "\n",
       "[200 rows x 1 columns]"
      ]
     },
     "execution_count": 11,
     "metadata": {},
     "output_type": "execute_result"
    }
   ],
   "source": [
    "# list of triage categories\n",
    "triage_cat = ['1', '2', '3', '4', '5']\n",
    "\n",
    "# assigning probability of each triage category\n",
    "triage_array = rng.choice(triage_cat, 200, p=[0.002, 0.067, 0.33, 0.525, 0.076])\n",
    "triage_array\n",
    "\n",
    "triage_df = pd.DataFrame(triage_array,  columns=[\"triage_category\"])\n",
    "triage_df"
   ]
  },
  {
   "cell_type": "code",
   "execution_count": 12,
   "id": "5cfeff39-8e12-48e3-9687-133d9dcc205e",
   "metadata": {},
   "outputs": [
    {
     "data": {
      "text/plain": [
       "Text(0, 0.5, 'Frequency')"
      ]
     },
     "execution_count": 12,
     "metadata": {},
     "output_type": "execute_result"
    },
    {
     "data": {
      "image/png": "[encoded data removed]",
      "text/plain": [
       "<Figure size 1080x720 with 1 Axes>"
      ]
     },
     "metadata": {
      "needs_background": "light"
     },
     "output_type": "display_data"
    }
   ],
   "source": [
    "# https://stackoverflow.com/questions/65708947/change-x-axis-order-of-labels-in-pandas-matplotlib-histogram\n",
    "#triage.triage_category.value_counts().loc[['1', '2', '3', '4', '5']].plot.bar()\n",
    "\n",
    "#Previously I had teh above code but it was no longer supported as per https://pandas.pydata.org/pandas-docs/stable/user_guide/indexing.html#deprecate-loc-reindex-listlike\n",
    "# changed to below from documentation\n",
    "triage_plot = triage_df.triage_category.value_counts().reindex(['1', '2', '3', '4', '5']).plot.bar(figsize=(15, 10), fontsize=16)\n",
    "\n",
    "# triage_plot title and labels\n",
    "triage_plot.set_title(\"Triage Category Counts\", fontdict=font_2)\n",
    "triage_plot.set_xlabel(\"Triage Category\", fontdict=font_1)\n",
    "triage_plot.set_ylabel(\"Frequency\", fontdict=font_1)  "
   ]
  },
  {
   "cell_type": "code",
   "execution_count": 7,
   "id": "1a5033ff-8b14-495e-b0e8-cb023aeb4e0c",
   "metadata": {},
   "outputs": [],
   "source": [
    "# plt.style.use('ggplot')\n",
    "# possible COVID???"
   ]
  },
  {
   "cell_type": "markdown",
   "id": "6ed4df62-b484-479d-8d8f-968cbf39e92c",
   "metadata": {},
   "source": [
    "***\n",
    "## 3. Referral Source\n",
    "The variable referral source has also been noted as a significant factor in the outcome of whether or not a patient is admitted as an inpatient from the emergecny department. In this case I will investigate two different types of referrals, self-referral or GP referral. \n",
    "\n",
    "* **GP Referral**: A GP referral is patient who has been seen by their own General Practitioner (GP) and their GP has obstructed them that they will need to attend the emergency department and they then write them a letter of referral for this attendance.\n",
    "* **Self Referral**: A self referral is a patient that attends the Emergency Department without being previously seen by their GP, this could be a patient who has been brought in via ambulance or in fact has arrived via their own transport. \n",
    "\n",
    "![xplotoutput](images/gp_referral.png)\n",
    "image: https://www.medicspot.co.uk/treatment/gp-referral \n",
    "\n",
    "In a study previously carried out around characteristics of emergency department attendnaces in the Dublin area, it was found that almost 79% of patients are self-referrers https://www.lenus.ie/bitstream/handle/10147/296824/CharacteristicsEDAttendances.pdf?sequence=1. Anotehr study carried out in a hospital in Amsterdam found that 26% of patwients arrived at teh emrgency department withoout referral https://intjem.biomedcentral.com/articles/10.1186/s12245-015-0096-x. With this statistic in mind I will generate a an array of referral source containing either 'GP' or 'Self' with a a probability of 0.775 that a pateitn is a self-referrer and the a probability of 0.225 that the patient has been referred form their GP.\n",
    "\n",
    "I will use the numpy **choice()** function in order to generaate this data at random. I will then plot the counts of each in the corresponding bar chart. "
   ]
  },
  {
   "cell_type": "code",
   "execution_count": 8,
   "id": "2ef6d557-d200-42be-b824-9e4255eb1ee2",
   "metadata": {},
   "outputs": [
    {
     "data": {
      "text/plain": [
       "Text(0, 0.5, 'Frequency')"
      ]
     },
     "execution_count": 8,
     "metadata": {},
     "output_type": "execute_result"
    },
    {
     "data": {
      "image/png": "[encoded data removed]",
      "text/plain": [
       "<Figure size 1080x720 with 1 Axes>"
      ]
     },
     "metadata": {
      "needs_background": "light"
     },
     "output_type": "display_data"
    }
   ],
   "source": [
    "# list of referral types\n",
    "referral = ['GP', 'Self']\n",
    "\n",
    "\n",
    "# assigning probability of each triage category\n",
    "referral_array = rng.choice(referral, 200, p=[0.225, 0.775])\n",
    "referral_array\n",
    "\n",
    "referral_df = pd.DataFrame(referral_array,  columns=[\"referral\"])\n",
    "referral_df\n",
    "\n",
    "#referral_df['referral'].value_counts()\n",
    "\n",
    "referral_plot = referral_df.referral.value_counts().reindex(['Self', 'GP']).plot.bar(figsize=(15, 10), fontsize=16)\n",
    "\n",
    "# triage_plot title and labels\n",
    "referral_plot.set_title(\"Count of Referral Source to Emergency Department\", fontdict=font_2)\n",
    "referral_plot.set_xlabel(\"Referral Source\", fontdict=font_1)\n",
    "referral_plot.set_ylabel(\"Frequency\", fontdict=font_1)"
   ]
  },
  {
   "cell_type": "markdown",
   "id": "96740f8e-f68d-4aab-9716-82b29ce3717a",
   "metadata": {},
   "source": [
    "***\n",
    "## 4. Model of Arrival\n",
    "Another variable that would have an influence on patient admission would be that of the mode of arrival in which the patient was brought to the hospital, in most cases people are trasnported to the emergency department by a family meember or some other type of transport but it is a common occurance for a patient to be brought in via ambulance. At a first glance i would think if you were to need an ambulance you would generally be in more urgent need of care. I carried out some research into the figures and avergares in different areas in relation to ambulances and emergency departments. \n",
    "\n",
    "![xplotoutput](images/ambulance.jpg)\n",
    "image https://en.wikipedia.org/wiki/Ambulance\n",
    "\n",
    "In two studdies carried out in the United States of America, the first study found there to be 14.4% of all patients who arrived at the emergency departmwent to be brought in via ambulance https://pubmed.ncbi.nlm.nih.gov/16997771/ and the second study carried out found that 14.2% of all attendances were brought in via ambulance https://www.researchgate.net/publication/7231555_Analysis_of_Ambulance_Transports_and_Diversions_Among_US_Emergency_Departments. \n",
    "\n",
    "In a study carried out in England in relation to factors that inlfuence admission in hospitals it was found that from all admissions to 140 hospitals between April 2013 and February 2014, 61.5% of these admissions were found to be brought in via ambulance https://qualitysafety.bmj.com/content/qhc/26/8/613.full.pdf. In the study I mentioned above carried out in the US, it was calculated that of these 14.2% of patients brought in via ambulance then 37% of these then result in an admission https://www.researchgate.net/publication/7231555_Analysis_of_Ambulance_Transports_and_Diversions_Among_US_Emergency_Departments. This shows how much of a role this variable plays in risk of emergency department admissions for this data set. \n",
    "\n",
    "Given the above researched articles I will utilize the statistic that anywhere between 11% and 18% of patients arriving at the ambulance will arrive via ambulance, it must also be noted that a person who arrives via ambulance must not be a GP referral and will not fall into the category 4 or category 5 of triage due to these patients not being classified as urgent. For the purpose of this project i will utilized this rationale due to an ambulance generally being used in cases of emergency. "
   ]
  },
  {
   "cell_type": "code",
   "execution_count": null,
   "id": "824914e1-46e9-4473-9eae-2c0d768ebb77",
   "metadata": {},
   "outputs": [],
   "source": []
  },
  {
   "cell_type": "markdown",
   "id": "312aa2b7-115c-46c6-8a26-eb4916d9ffa7",
   "metadata": {},
   "source": [
    "***\n",
    "***\n",
    "# Simulating the Data\n",
    "I will use the research conducted to create this data. First I will combine age and triage category \n"
   ]
  },
  {
   "cell_type": "code",
   "execution_count": 9,
   "id": "f860788d-af51-46f6-851d-9afde2b90bf4",
   "metadata": {},
   "outputs": [
    {
     "data": {
      "text/html": [
       "<div>\n",
       "<style scoped>\n",
       "    .dataframe tbody tr th:only-of-type {\n",
       "        vertical-align: middle;\n",
       "    }\n",
       "\n",
       "    .dataframe tbody tr th {\n",
       "        vertical-align: top;\n",
       "    }\n",
       "\n",
       "    .dataframe thead th {\n",
       "        text-align: right;\n",
       "    }\n",
       "</style>\n",
       "<table border=\"1\" class=\"dataframe\">\n",
       "  <thead>\n",
       "    <tr style=\"text-align: right;\">\n",
       "      <th></th>\n",
       "      <th>age</th>\n",
       "    </tr>\n",
       "  </thead>\n",
       "  <tbody>\n",
       "    <tr>\n",
       "      <th>13</th>\n",
       "      <td>2</td>\n",
       "    </tr>\n",
       "    <tr>\n",
       "      <th>93</th>\n",
       "      <td>40</td>\n",
       "    </tr>\n",
       "    <tr>\n",
       "      <th>26</th>\n",
       "      <td>10</td>\n",
       "    </tr>\n",
       "    <tr>\n",
       "      <th>4</th>\n",
       "      <td>6</td>\n",
       "    </tr>\n",
       "    <tr>\n",
       "      <th>162</th>\n",
       "      <td>62</td>\n",
       "    </tr>\n",
       "    <tr>\n",
       "      <th>...</th>\n",
       "      <td>...</td>\n",
       "    </tr>\n",
       "    <tr>\n",
       "      <th>183</th>\n",
       "      <td>69</td>\n",
       "    </tr>\n",
       "    <tr>\n",
       "      <th>34</th>\n",
       "      <td>13</td>\n",
       "    </tr>\n",
       "    <tr>\n",
       "      <th>6</th>\n",
       "      <td>6</td>\n",
       "    </tr>\n",
       "    <tr>\n",
       "      <th>75</th>\n",
       "      <td>30</td>\n",
       "    </tr>\n",
       "    <tr>\n",
       "      <th>83</th>\n",
       "      <td>31</td>\n",
       "    </tr>\n",
       "  </tbody>\n",
       "</table>\n",
       "<p>200 rows × 1 columns</p>\n",
       "</div>"
      ],
      "text/plain": [
       "     age\n",
       "13     2\n",
       "93    40\n",
       "26    10\n",
       "4      6\n",
       "162   62\n",
       "..   ...\n",
       "183   69\n",
       "34    13\n",
       "6      6\n",
       "75    30\n",
       "83    31\n",
       "\n",
       "[200 rows x 1 columns]"
      ]
     },
     "execution_count": 9,
     "metadata": {},
     "output_type": "execute_result"
    }
   ],
   "source": [
    "age_df"
   ]
  },
  {
   "cell_type": "code",
   "execution_count": 13,
   "id": "23dacdb0-689a-486d-bd10-881811554c6d",
   "metadata": {},
   "outputs": [
    {
     "data": {
      "text/html": [
       "<div>\n",
       "<style scoped>\n",
       "    .dataframe tbody tr th:only-of-type {\n",
       "        vertical-align: middle;\n",
       "    }\n",
       "\n",
       "    .dataframe tbody tr th {\n",
       "        vertical-align: top;\n",
       "    }\n",
       "\n",
       "    .dataframe thead th {\n",
       "        text-align: right;\n",
       "    }\n",
       "</style>\n",
       "<table border=\"1\" class=\"dataframe\">\n",
       "  <thead>\n",
       "    <tr style=\"text-align: right;\">\n",
       "      <th></th>\n",
       "      <th>triage_category</th>\n",
       "    </tr>\n",
       "  </thead>\n",
       "  <tbody>\n",
       "    <tr>\n",
       "      <th>0</th>\n",
       "      <td>4</td>\n",
       "    </tr>\n",
       "    <tr>\n",
       "      <th>1</th>\n",
       "      <td>5</td>\n",
       "    </tr>\n",
       "    <tr>\n",
       "      <th>2</th>\n",
       "      <td>3</td>\n",
       "    </tr>\n",
       "    <tr>\n",
       "      <th>3</th>\n",
       "      <td>4</td>\n",
       "    </tr>\n",
       "    <tr>\n",
       "      <th>4</th>\n",
       "      <td>4</td>\n",
       "    </tr>\n",
       "    <tr>\n",
       "      <th>...</th>\n",
       "      <td>...</td>\n",
       "    </tr>\n",
       "    <tr>\n",
       "      <th>195</th>\n",
       "      <td>3</td>\n",
       "    </tr>\n",
       "    <tr>\n",
       "      <th>196</th>\n",
       "      <td>4</td>\n",
       "    </tr>\n",
       "    <tr>\n",
       "      <th>197</th>\n",
       "      <td>5</td>\n",
       "    </tr>\n",
       "    <tr>\n",
       "      <th>198</th>\n",
       "      <td>3</td>\n",
       "    </tr>\n",
       "    <tr>\n",
       "      <th>199</th>\n",
       "      <td>3</td>\n",
       "    </tr>\n",
       "  </tbody>\n",
       "</table>\n",
       "<p>200 rows × 1 columns</p>\n",
       "</div>"
      ],
      "text/plain": [
       "    triage_category\n",
       "0                 4\n",
       "1                 5\n",
       "2                 3\n",
       "3                 4\n",
       "4                 4\n",
       "..              ...\n",
       "195               3\n",
       "196               4\n",
       "197               5\n",
       "198               3\n",
       "199               3\n",
       "\n",
       "[200 rows x 1 columns]"
      ]
     },
     "execution_count": 13,
     "metadata": {},
     "output_type": "execute_result"
    }
   ],
   "source": [
    "triage_df"
   ]
  },
  {
   "cell_type": "code",
   "execution_count": 15,
   "id": "a098ca7f-c6a4-4aad-b1f7-844ed74e820a",
   "metadata": {},
   "outputs": [
    {
     "data": {
      "text/html": [
       "<div>\n",
       "<style scoped>\n",
       "    .dataframe tbody tr th:only-of-type {\n",
       "        vertical-align: middle;\n",
       "    }\n",
       "\n",
       "    .dataframe tbody tr th {\n",
       "        vertical-align: top;\n",
       "    }\n",
       "\n",
       "    .dataframe thead th {\n",
       "        text-align: right;\n",
       "    }\n",
       "</style>\n",
       "<table border=\"1\" class=\"dataframe\">\n",
       "  <thead>\n",
       "    <tr style=\"text-align: right;\">\n",
       "      <th></th>\n",
       "      <th>age</th>\n",
       "      <th>triage_category</th>\n",
       "    </tr>\n",
       "  </thead>\n",
       "  <tbody>\n",
       "    <tr>\n",
       "      <th>13</th>\n",
       "      <td>2</td>\n",
       "      <td>3</td>\n",
       "    </tr>\n",
       "    <tr>\n",
       "      <th>93</th>\n",
       "      <td>40</td>\n",
       "      <td>3</td>\n",
       "    </tr>\n",
       "    <tr>\n",
       "      <th>26</th>\n",
       "      <td>10</td>\n",
       "      <td>4</td>\n",
       "    </tr>\n",
       "    <tr>\n",
       "      <th>4</th>\n",
       "      <td>6</td>\n",
       "      <td>4</td>\n",
       "    </tr>\n",
       "    <tr>\n",
       "      <th>162</th>\n",
       "      <td>62</td>\n",
       "      <td>3</td>\n",
       "    </tr>\n",
       "    <tr>\n",
       "      <th>...</th>\n",
       "      <td>...</td>\n",
       "      <td>...</td>\n",
       "    </tr>\n",
       "    <tr>\n",
       "      <th>183</th>\n",
       "      <td>69</td>\n",
       "      <td>4</td>\n",
       "    </tr>\n",
       "    <tr>\n",
       "      <th>34</th>\n",
       "      <td>13</td>\n",
       "      <td>4</td>\n",
       "    </tr>\n",
       "    <tr>\n",
       "      <th>6</th>\n",
       "      <td>6</td>\n",
       "      <td>5</td>\n",
       "    </tr>\n",
       "    <tr>\n",
       "      <th>75</th>\n",
       "      <td>30</td>\n",
       "      <td>4</td>\n",
       "    </tr>\n",
       "    <tr>\n",
       "      <th>83</th>\n",
       "      <td>31</td>\n",
       "      <td>3</td>\n",
       "    </tr>\n",
       "  </tbody>\n",
       "</table>\n",
       "<p>200 rows × 2 columns</p>\n",
       "</div>"
      ],
      "text/plain": [
       "     age triage_category\n",
       "13     2               3\n",
       "93    40               3\n",
       "26    10               4\n",
       "4      6               4\n",
       "162   62               3\n",
       "..   ...             ...\n",
       "183   69               4\n",
       "34    13               4\n",
       "6      6               5\n",
       "75    30               4\n",
       "83    31               3\n",
       "\n",
       "[200 rows x 2 columns]"
      ]
     },
     "execution_count": 15,
     "metadata": {},
     "output_type": "execute_result"
    }
   ],
   "source": [
    "df = age_df.join(triage_df)\n",
    "df"
   ]
  },
  {
   "cell_type": "code",
   "execution_count": 17,
   "id": "24a93a23-4baf-4ea4-8f4c-ce83d9fcb6c4",
   "metadata": {},
   "outputs": [
    {
     "data": {
      "text/plain": [
       "<matplotlib.collections.PathCollection at 0x236b0f07dc0>"
      ]
     },
     "execution_count": 17,
     "metadata": {},
     "output_type": "execute_result"
    },
    {
     "data": {
      "image/png": "[encoded data removed]",
      "text/plain": [
       "<Figure size 432x288 with 1 Axes>"
      ]
     },
     "metadata": {
      "needs_background": "light"
     },
     "output_type": "display_data"
    }
   ],
   "source": [
    "plt.scatter(df['age'], df['triage_category'])"
   ]
  },
  {
   "cell_type": "markdown",
   "id": "cfcc844c-ecbe-4413-b581-60370a3cfeff",
   "metadata": {},
   "source": [
    "Relationship between variables eg \n",
    "pet and age have posititive linear rel https://imj.ie/growing-old-in-the-emergency-department/\n",
    "lower"
   ]
  },
  {
   "cell_type": "code",
   "execution_count": null,
   "id": "ece41419-f011-41c0-82c5-44660f630afb",
   "metadata": {},
   "outputs": [],
   "source": []
  },
  {
   "cell_type": "markdown",
   "id": "589cd8ea-2b5b-4067-9e82-e7ae79071c03",
   "metadata": {},
   "source": [
    "ambulance\n",
    "https://www.esri.ie/system/files/publications/QEC2020SUM_SA_lyons.pdf\n",
    "14.2% https://www.researchgate.net/publication/7231555_Analysis_of_Ambulance_Transports_and_Diversions_Among_US_Emergency_Departments\n",
    "14.4% https://pubmed.ncbi.nlm.nih.gov/16997771/"
   ]
  },
  {
   "cell_type": "code",
   "execution_count": null,
   "id": "6a7b4bad-0053-4e81-b9ad-1f3543e29178",
   "metadata": {},
   "outputs": [],
   "source": []
  },
  {
   "cell_type": "markdown",
   "id": "4fc2201f-d2d4-4617-a7a1-caf825346e57",
   "metadata": {},
   "source": [
    "PET compliance https://www.imo.ie/news-media/publications/Compliance-PP.pdf "
   ]
  },
  {
   "cell_type": "markdown",
   "id": "6b6b2302-1cd3-4b81-bf7d-1ce76c78b702",
   "metadata": {},
   "source": [
    "https://www.lenus.ie/bitstream/handle/10147/296824/CharacteristicsEDAttendances.pdf?sequence=1 - Characteristics of emergency departments attendances in four Irish teaching hospitals\n",
    "\n"
   ]
  },
  {
   "cell_type": "code",
   "execution_count": null,
   "id": "c17e20b1-6623-4630-beaa-03d48badd342",
   "metadata": {},
   "outputs": [],
   "source": []
  },
  {
   "cell_type": "code",
   "execution_count": null,
   "id": "defd599e-c5ba-46ed-8904-0bca439d37d8",
   "metadata": {},
   "outputs": [],
   "source": []
  }
 ],
 "metadata": {
  "kernelspec": {
   "display_name": "Python 3",
   "language": "python",
   "name": "python3"
  },
  "language_info": {
   "codemirror_mode": {
    "name": "ipython",
    "version": 3
   },
   "file_extension": ".py",
   "mimetype": "text/x-python",
   "name": "python",
   "nbconvert_exporter": "python",
   "pygments_lexer": "ipython3",
   "version": "3.8.8"
  }
 },
 "nbformat": 4,
 "nbformat_minor": 5
}
