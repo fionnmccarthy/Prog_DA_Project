{
 "cells": [
  {
   "cell_type": "markdown",
   "id": "3ee31596-8593-46c6-ae1c-821acf7cd84a",
   "metadata": {},
   "source": [
    "***\n",
    "***\n",
    "# Programming for Data Analysis Project \n",
    "***\n",
    "***\n",
    "\n",
    "## Simulating a Data Set for a Real-world Phenomenon\n",
    "\n",
    "## Fionn McCarthy\n",
    "\n",
    "### 1. Project Scope\n",
    "The aim of this project is to create a data set by simulation of a real-world phenomenon of choice. This jupyter notebook will detail teh research and investigation into this real-world phenomenon and how the different variable in the data set relate to each and how they are derived. \n",
    "\n",
    "I will carry out research in to variables of interest in this area and utilize teh different libraries and functions available in pyhton in order to create the dataset "
   ]
  },
  {
   "cell_type": "code",
   "execution_count": null,
   "id": "1a5033ff-8b14-495e-b0e8-cb023aeb4e0c",
   "metadata": {},
   "outputs": [],
   "source": [
    "plt.style.use('ggplot')"
   ]
  },
  {
   "cell_type": "code",
   "execution_count": null,
   "id": "3633cd28-019d-4e9a-afcf-84a37f18e368",
   "metadata": {},
   "outputs": [],
   "source": []
  },
  {
   "cell_type": "code",
   "execution_count": null,
   "id": "c17e20b1-6623-4630-beaa-03d48badd342",
   "metadata": {},
   "outputs": [],
   "source": []
  },
  {
   "cell_type": "code",
   "execution_count": null,
   "id": "defd599e-c5ba-46ed-8904-0bca439d37d8",
   "metadata": {},
   "outputs": [],
   "source": []
  }
 ],
 "metadata": {
  "kernelspec": {
   "display_name": "Python 3",
   "language": "python",
   "name": "python3"
  },
  "language_info": {
   "codemirror_mode": {
    "name": "ipython",
    "version": 3
   },
   "file_extension": ".py",
   "mimetype": "text/x-python",
   "name": "python",
   "nbconvert_exporter": "python",
   "pygments_lexer": "ipython3",
   "version": "3.8.8"
  }
 },
 "nbformat": 4,
 "nbformat_minor": 5
}
