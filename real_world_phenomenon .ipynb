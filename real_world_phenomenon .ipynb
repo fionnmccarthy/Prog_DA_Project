{
 "cells": [
  {
   "cell_type": "markdown",
   "id": "3ee31596-8593-46c6-ae1c-821acf7cd84a",
   "metadata": {},
   "source": [
    "***\n",
    "***\n",
    "# Programming for Data Analysis Project \n",
    "***\n",
    "***\n",
    "\n",
    "## Simulating a Data Set for a Real-world Phenomenon\n",
    "\n",
    "## Fionn McCarthy\n",
    "\n",
    "## Project Scope\n",
    "The aim of this project is to create a data set by simulation of a real-world phenomenon of choice. This jupyter notebook will detail the research and investigation into this real-world phenomenon and how the different variables in the data set relate to each and how they are derived. \n",
    "\n",
    "I will carry out research into variables of interest in this area and utilize the different libraries and functions available in python in order to create the dataset. For the purpose of this project I wanted to simulate the real-world phenomenon of emergency department data, I have a backgroud in healthcare and I think it would be interesting to simulate data based on the emergency department. I decided to explore many different variables for the simulation of this dataset. I aim to generate a dataset that will show a patients record for admission (yes/no), whether patient did not wait to be seen, triage category, patient wait times (total time in the emergency department), arrival by ambulance, source of referral, patient gender and patients age. \n",
    "\n",
    "![xplotoutput](images/ed.jpg)\n",
    "\n",
    "In Ireland Emergency Departments bear a constant headline in the news on a daily basis, this is prior to the current COVID-19 pandemic and has also been a constant presence throughout the pandemic and it appears to be an issue that may seem to be in the public health sector for quite some time in our future. I found an annual review from UL Hospitals Group available online for 2019 which detailed some figures around the emergency department, the Emergency Department at UHL in Limerick had on average of 195 patients per day over the course of 2019 with a total of 71,315 patients presenting in 2019(https://healthservice.hse.ie/filelibrary/ulh/ul-hospitals-group-annual-review-2019.pdf). UL Hospitals Group is a Public Acute Hospital Acute catering for the mid-west region of Ireland catering for a population of approximately 473,000 people across Clare, Limerick and North Tipperary(https://healthservice.hse.ie/healthcare-delivery/ul-hospitals-group/about-ul-hospitals-group/about-ul-hospitals-group.html). I will generate a dataset containing data based off one day of hospital emergency department attendances. "
   ]
  },
  {
   "cell_type": "markdown",
   "id": "e082218b-1e23-4a4a-8175-03632609f44e",
   "metadata": {},
   "source": [
    "## Variables of Interest\n",
    "\n",
    "### Admission (yes/no)\n",
    "I decided the most interesting variable from the emergency department was whether the patient was admitted as an inpatient or not, as generally whether or not the patient needed to be admitted as an inpatient would be determined by how ill the patient would be when attending the emergency department along with other patient characteristics. I will use the other information on the patients attendance in order to generate this variable. \n",
    "\n",
    "If a patient can be treated at the emergency department and then be sent home again once treated then they will not require admission as an inpatient, an inpatient is a patient that requires an overnight stay on the hospital ward. The hospital ward is a separate section in the hospital to the emergency department. The decision on whether to admit the patient or not would come down to the Senior Emergency Department Consultants with the advice of their team.\n",
    "\n",
    "An analysis of patient characterisitcs at four Irish teaching hospitals in the Dublin area showed that around one in four patients are admitted as inpatients from emergency departments (https://www.lenus.ie/bitstream/handle/10147/296824/CharacteristicsEDAttendances.pdf?sequence=1). \n",
    "\n",
    "Use above link to show main factors of admission. "
   ]
  },
  {
   "cell_type": "markdown",
   "id": "96736c19-5063-4501-9ef6-5d851bb26aec",
   "metadata": {},
   "source": [
    "## Influential Variables\n",
    "### 1. Patient Age\n",
    "In a study conducted in four Irish teaching hospitals in Dublin it was shown that patients in an age category of 15 to 24 years old are seven times less likely to be admitted than patients in the 85 and over category https://www.lenus.ie/bitstream/handle/10147/296824/CharacteristicsEDAttendances.pdf?sequence=1. Therefore this variable would have a significant effect on our variable of interest, whether or not the patient was admitted. The older the age of the patient seems to mean an increase risk in hospital admission.  \n",
    "\n",
    "The variable patient age is the age of the patient at the time of registration to the emergency department. There age of patients attending an emergency department will depend on age cohorts of patients in that particular region. In 2019 the Department of Health prepared a paper called 'Health in Ireland' where it provides summary information on health and healthcare in Ireland over the previous ten years https://assets.gov.ie/45117/6a4f970018d6477bac38f4539f80e927.pdf. The population characteristics presenetd in this publication are based off the 2016 cencus and projections are made for figures for the 2019 year. The below image derives the population distributions across Ireland for 2019: \n",
    "\n",
    "![xplotoutput](images/population.png)\n",
    "\n",
    "I will utilize the above information in order to simulate the age demographic of each patient within the dataset. I will uniformly distribute the age of each patient between each age category. "
   ]
  },
  {
   "cell_type": "code",
   "execution_count": 1,
   "id": "5029fe22-df86-42d7-bce2-d8f9c95d7a6a",
   "metadata": {},
   "outputs": [
    {
     "data": {
      "image/png": "[encoded data removed]",
      "text/plain": [
       "<Figure size 432x288 with 1 Axes>"
      ]
     },
     "metadata": {
      "needs_background": "light"
     },
     "output_type": "display_data"
    }
   ],
   "source": [
    "# https://www.geeksforgeeks.org/create-a-pandas-dataframe-from-lists/\n",
    "# import pandas as pd\n",
    "import pandas as pd\n",
    "  \n",
    "# list of age groups\n",
    "age = ['0-14', '15-24', '25-34', '35-44', '45-54', '55-64', '65-74', '75-84', '85+']\n",
    "\n",
    "# list of populations in 000's\n",
    "population = [1008.9, 618.0, 620.0, 776.9, 661.6, 539.7, 404.1, 214.9, 77.3]\n",
    "\n",
    "# sum population \n",
    "population_total = 1008.9 + 618.0 + 620.0 + 776.9 + 661.6 + 539.7 + 404.1 + 214.9 + 77.3\n",
    "\n",
    "#  create array of population percent \n",
    "population_percent = [(i / population_total)*100 for i in population]\n",
    "\n",
    "df = pd.DataFrame(list(zip(age, population, population_percent)), columns =['Age_Cat', 'Population in 000s', 'Pop%'])\n",
    "df\n",
    "\n",
    "ax = df.plot.bar(x='Age_Cat', y='Population in 000s', rot=0)"
   ]
  },
  {
   "cell_type": "markdown",
   "id": "712b48d8-4d2d-4805-8400-ad76ee0b03bd",
   "metadata": {},
   "source": [
    "The above plot shows that the population in Ireland is positively skewed or also skewed to the right. "
   ]
  },
  {
   "cell_type": "code",
   "execution_count": 2,
   "id": "09f461d4-d308-43f4-abaa-ad1dc782afe7",
   "metadata": {},
   "outputs": [
    {
     "data": {
      "text/html": [
       "<div>\n",
       "<style scoped>\n",
       "    .dataframe tbody tr th:only-of-type {\n",
       "        vertical-align: middle;\n",
       "    }\n",
       "\n",
       "    .dataframe tbody tr th {\n",
       "        vertical-align: top;\n",
       "    }\n",
       "\n",
       "    .dataframe thead th {\n",
       "        text-align: right;\n",
       "    }\n",
       "</style>\n",
       "<table border=\"1\" class=\"dataframe\">\n",
       "  <thead>\n",
       "    <tr style=\"text-align: right;\">\n",
       "      <th></th>\n",
       "      <th>Age_Cat</th>\n",
       "      <th>Population in 000s</th>\n",
       "      <th>Pop%</th>\n",
       "    </tr>\n",
       "  </thead>\n",
       "  <tbody>\n",
       "    <tr>\n",
       "      <th>0</th>\n",
       "      <td>0-14</td>\n",
       "      <td>1008.9</td>\n",
       "      <td>20.500264</td>\n",
       "    </tr>\n",
       "    <tr>\n",
       "      <th>1</th>\n",
       "      <td>15-24</td>\n",
       "      <td>618.0</td>\n",
       "      <td>12.557402</td>\n",
       "    </tr>\n",
       "    <tr>\n",
       "      <th>2</th>\n",
       "      <td>25-34</td>\n",
       "      <td>620.0</td>\n",
       "      <td>12.598041</td>\n",
       "    </tr>\n",
       "    <tr>\n",
       "      <th>3</th>\n",
       "      <td>35-44</td>\n",
       "      <td>776.9</td>\n",
       "      <td>15.786158</td>\n",
       "    </tr>\n",
       "    <tr>\n",
       "      <th>4</th>\n",
       "      <td>45-54</td>\n",
       "      <td>661.6</td>\n",
       "      <td>13.443329</td>\n",
       "    </tr>\n",
       "    <tr>\n",
       "      <th>5</th>\n",
       "      <td>55-64</td>\n",
       "      <td>539.7</td>\n",
       "      <td>10.966392</td>\n",
       "    </tr>\n",
       "    <tr>\n",
       "      <th>6</th>\n",
       "      <td>65-74</td>\n",
       "      <td>404.1</td>\n",
       "      <td>8.211078</td>\n",
       "    </tr>\n",
       "    <tr>\n",
       "      <th>7</th>\n",
       "      <td>75-84</td>\n",
       "      <td>214.9</td>\n",
       "      <td>4.366644</td>\n",
       "    </tr>\n",
       "    <tr>\n",
       "      <th>8</th>\n",
       "      <td>85+</td>\n",
       "      <td>77.3</td>\n",
       "      <td>1.570691</td>\n",
       "    </tr>\n",
       "  </tbody>\n",
       "</table>\n",
       "</div>"
      ],
      "text/plain": [
       "  Age_Cat  Population in 000s       Pop%\n",
       "0    0-14              1008.9  20.500264\n",
       "1   15-24               618.0  12.557402\n",
       "2   25-34               620.0  12.598041\n",
       "3   35-44               776.9  15.786158\n",
       "4   45-54               661.6  13.443329\n",
       "5   55-64               539.7  10.966392\n",
       "6   65-74               404.1   8.211078\n",
       "7   75-84               214.9   4.366644\n",
       "8     85+                77.3   1.570691"
      ]
     },
     "execution_count": 2,
     "metadata": {},
     "output_type": "execute_result"
    }
   ],
   "source": [
    "df"
   ]
  },
  {
   "cell_type": "markdown",
   "id": "275c07de-5208-4ef1-99fe-92a737d31114",
   "metadata": {},
   "source": [
    "Given the above research I found it would be best to unifromly distribute the data beween each age bucket. I will use the percentage breakdown in each case to simulate the population sample. I will assume a max age of 100 for the purpose of this simulation. Therefore I will generate the data as follows:\n",
    "* 20% between 0 and 14.\n",
    "* 13% between 15 and 24.\n",
    "* 13% between 25 and 34.\n",
    "* 16% between 35 and 44.\n",
    "* 13% between 45 and 54.\n",
    "* 11% between 55 and 64.\n",
    "* 8% between 65 and 74.\n",
    "* 4% between 75 and 84.\n",
    "* 2% between 85 and 100.\n",
    "\n",
    "I will use the NumPy library in order to generate these randome integers between these ages categories and create a dataframe. "
   ]
  },
  {
   "cell_type": "code",
   "execution_count": 3,
   "id": "95e42f7a-9b2e-4677-bb82-fed2bf0db0aa",
   "metadata": {},
   "outputs": [
    {
     "data": {
      "text/html": [
       "<div>\n",
       "<style scoped>\n",
       "    .dataframe tbody tr th:only-of-type {\n",
       "        vertical-align: middle;\n",
       "    }\n",
       "\n",
       "    .dataframe tbody tr th {\n",
       "        vertical-align: top;\n",
       "    }\n",
       "\n",
       "    .dataframe thead th {\n",
       "        text-align: right;\n",
       "    }\n",
       "</style>\n",
       "<table border=\"1\" class=\"dataframe\">\n",
       "  <thead>\n",
       "    <tr style=\"text-align: right;\">\n",
       "      <th></th>\n",
       "      <th>age</th>\n",
       "    </tr>\n",
       "  </thead>\n",
       "  <tbody>\n",
       "    <tr>\n",
       "      <th>39</th>\n",
       "      <td>1</td>\n",
       "    </tr>\n",
       "    <tr>\n",
       "      <th>43</th>\n",
       "      <td>17</td>\n",
       "    </tr>\n",
       "    <tr>\n",
       "      <th>74</th>\n",
       "      <td>29</td>\n",
       "    </tr>\n",
       "    <tr>\n",
       "      <th>48</th>\n",
       "      <td>15</td>\n",
       "    </tr>\n",
       "    <tr>\n",
       "      <th>139</th>\n",
       "      <td>50</td>\n",
       "    </tr>\n",
       "    <tr>\n",
       "      <th>...</th>\n",
       "      <td>...</td>\n",
       "    </tr>\n",
       "    <tr>\n",
       "      <th>97</th>\n",
       "      <td>37</td>\n",
       "    </tr>\n",
       "    <tr>\n",
       "      <th>6</th>\n",
       "      <td>8</td>\n",
       "    </tr>\n",
       "    <tr>\n",
       "      <th>73</th>\n",
       "      <td>29</td>\n",
       "    </tr>\n",
       "    <tr>\n",
       "      <th>177</th>\n",
       "      <td>69</td>\n",
       "    </tr>\n",
       "    <tr>\n",
       "      <th>172</th>\n",
       "      <td>74</td>\n",
       "    </tr>\n",
       "  </tbody>\n",
       "</table>\n",
       "<p>200 rows × 1 columns</p>\n",
       "</div>"
      ],
      "text/plain": [
       "     age\n",
       "39     1\n",
       "43    17\n",
       "74    29\n",
       "48    15\n",
       "139   50\n",
       "..   ...\n",
       "97    37\n",
       "6      8\n",
       "73    29\n",
       "177   69\n",
       "172   74\n",
       "\n",
       "[200 rows x 1 columns]"
      ]
     },
     "execution_count": 3,
     "metadata": {},
     "output_type": "execute_result"
    }
   ],
   "source": [
    "import numpy as np\n",
    "\n",
    "rng = np.random.default_rng()\n",
    "\n",
    "a = rng.integers(0,15, size=40)\n",
    "b = rng.integers(15,25, size=26)\n",
    "c = rng.integers(25,35, size=26)\n",
    "d = rng.integers(35,45, size=32)\n",
    "e = rng.integers(45,55, size=26)\n",
    "f = rng.integers(55,65, size=22)\n",
    "g = rng.integers(65,75, size=16)\n",
    "h = rng.integers(75,85, size=8)\n",
    "i = rng.integers(85,100, size=4)\n",
    "\n",
    "age_a = pd.DataFrame(a,  columns=[\"age\"])\n",
    "age_b = pd.DataFrame(b,  columns=[\"age\"])\n",
    "age_c = pd.DataFrame(c,  columns=[\"age\"])\n",
    "age_d = pd.DataFrame(d,  columns=[\"age\"])\n",
    "age_e = pd.DataFrame(e,  columns=[\"age\"])\n",
    "age_f = pd.DataFrame(f,  columns=[\"age\"])\n",
    "age_g = pd.DataFrame(g,  columns=[\"age\"])\n",
    "age_h = pd.DataFrame(h,  columns=[\"age\"])\n",
    "age_i = pd.DataFrame(i,  columns=[\"age\"])\n",
    "#age_df\n",
    "\n",
    "age_df = pd.concat([age_a, age_b, age_c, age_d, age_e, age_f, age_g, age_h, age_i], ignore_index=True)\n",
    "age_df = age_df.sample(frac=1)\n",
    "age_df"
   ]
  },
  {
   "cell_type": "code",
   "execution_count": 4,
   "id": "6fe0e338-90c9-4174-ac03-dbbad6443175",
   "metadata": {},
   "outputs": [
    {
     "data": {
      "text/plain": [
       "(array([31., 24., 21., 30., 22., 27., 21., 12.,  8.,  4.]),\n",
       " array([ 0. ,  9.4, 18.8, 28.2, 37.6, 47. , 56.4, 65.8, 75.2, 84.6, 94. ]),\n",
       " <BarContainer object of 10 artists>)"
      ]
     },
     "execution_count": 4,
     "metadata": {},
     "output_type": "execute_result"
    },
    {
     "data": {
      "image/png": "[encoded data removed]",
      "text/plain": [
       "<Figure size 432x288 with 1 Axes>"
      ]
     },
     "metadata": {
      "needs_background": "light"
     },
     "output_type": "display_data"
    }
   ],
   "source": [
    "import matplotlib.pyplot as plt\n",
    "plt.hist(age_df)"
   ]
  },
  {
   "cell_type": "markdown",
   "id": "768c2f0d-c60e-4a24-ab7e-9d38017e0b85",
   "metadata": {},
   "source": [
    "### 2. Triage Category \n",
    "In the study conducted in four Irish teaching hospitals in Dublin it was shown that patients triage category would have a significant impact on the patients outcome within the emergency department  https://www.lenus.ie/bitstream/handle/10147/296824/CharacteristicsEDAttendances.pdf?sequence=1. This would make sense as a triage nurse with clinical experience will be assigning each patient their urgnecy category and if a patient is more urgent it would generally mean their injury is more serious and then this would possibly lead to a higher risk of hospital admission. Therefore this variable would have a significant effect on our variable of interest, whether or not the patient was admitted. The lower the category (more urgent) appears to have an increase in likelihood of hospital admission.\n",
    "\n",
    "Triage category is the Manchester Triage Score system which is utilized across all Irish emergency departments, it enables the triage nurse (nurse who first assesses patient) to evaluate the urgency of the attendance to the emergency department. The triage nurse will assign a clinical priority to the patient upon evaluation whic is solely based off signs and sypmtoms and not from underlying conditions (https://www.hse.ie/eng/services/publications/clinical-strategy-and-programmes/infographic-emergency-medicine.pdf). \n",
    "\n",
    "![xplotoutput](images/triage.jpg)\n",
    "\n",
    "image source: https://www.hse.ie/eng/services/publications/clinical-strategy-and-programmes/infographic-emergency-medicine.pdf\n",
    "\n",
    "In order to simulate such a categorical varibale, I investigated what proportions of patients attended via each triage categories at other emergency departments around the world. A study on 'Agreement between triage category and patient’s perception of priority in emergency departments' was carried out on across eight emergency department's in Queensland in Australia shows the assigned triage categories for 406 pateints that were sampled. 0.2% were assigned triage category 1, 6.7% triage category 2, 33% triage category 3, 52.5% triage category 4 and 7.6% triage category 5 https://www.ncbi.nlm.nih.gov/pmc/articles/PMC5070359/. "
   ]
  },
  {
   "cell_type": "code",
   "execution_count": 14,
   "id": "da8d1ce2-ab73-45b2-bf2f-45194285fc2d",
   "metadata": {},
   "outputs": [
    {
     "data": {
      "text/html": [
       "<div>\n",
       "<style scoped>\n",
       "    .dataframe tbody tr th:only-of-type {\n",
       "        vertical-align: middle;\n",
       "    }\n",
       "\n",
       "    .dataframe tbody tr th {\n",
       "        vertical-align: top;\n",
       "    }\n",
       "\n",
       "    .dataframe thead th {\n",
       "        text-align: right;\n",
       "    }\n",
       "</style>\n",
       "<table border=\"1\" class=\"dataframe\">\n",
       "  <thead>\n",
       "    <tr style=\"text-align: right;\">\n",
       "      <th></th>\n",
       "      <th>triage_category</th>\n",
       "    </tr>\n",
       "  </thead>\n",
       "  <tbody>\n",
       "    <tr>\n",
       "      <th>0</th>\n",
       "      <td>3</td>\n",
       "    </tr>\n",
       "    <tr>\n",
       "      <th>1</th>\n",
       "      <td>3</td>\n",
       "    </tr>\n",
       "    <tr>\n",
       "      <th>2</th>\n",
       "      <td>4</td>\n",
       "    </tr>\n",
       "    <tr>\n",
       "      <th>3</th>\n",
       "      <td>4</td>\n",
       "    </tr>\n",
       "    <tr>\n",
       "      <th>4</th>\n",
       "      <td>2</td>\n",
       "    </tr>\n",
       "    <tr>\n",
       "      <th>...</th>\n",
       "      <td>...</td>\n",
       "    </tr>\n",
       "    <tr>\n",
       "      <th>195</th>\n",
       "      <td>3</td>\n",
       "    </tr>\n",
       "    <tr>\n",
       "      <th>196</th>\n",
       "      <td>4</td>\n",
       "    </tr>\n",
       "    <tr>\n",
       "      <th>197</th>\n",
       "      <td>4</td>\n",
       "    </tr>\n",
       "    <tr>\n",
       "      <th>198</th>\n",
       "      <td>3</td>\n",
       "    </tr>\n",
       "    <tr>\n",
       "      <th>199</th>\n",
       "      <td>3</td>\n",
       "    </tr>\n",
       "  </tbody>\n",
       "</table>\n",
       "<p>200 rows × 1 columns</p>\n",
       "</div>"
      ],
      "text/plain": [
       "    triage_category\n",
       "0                 3\n",
       "1                 3\n",
       "2                 4\n",
       "3                 4\n",
       "4                 2\n",
       "..              ...\n",
       "195               3\n",
       "196               4\n",
       "197               4\n",
       "198               3\n",
       "199               3\n",
       "\n",
       "[200 rows x 1 columns]"
      ]
     },
     "execution_count": 14,
     "metadata": {},
     "output_type": "execute_result"
    }
   ],
   "source": [
    "# list of triage categories\n",
    "triage_cat = ['1', '2', '3', '4', '5']\n",
    "\n",
    "# assigning probability of each triage category\n",
    "triage_array = rng.choice(triage_cat, 200, p=[0.002, 0.067, 0.33, 0.525, 0.076])\n",
    "triage_array\n",
    "\n",
    "triage = pd.DataFrame(triage_array,  columns=[\"triage_category\"])\n",
    "triage"
   ]
  },
  {
   "cell_type": "code",
   "execution_count": 16,
   "id": "5cfeff39-8e12-48e3-9687-133d9dcc205e",
   "metadata": {},
   "outputs": [
    {
     "data": {
      "text/plain": [
       "<AxesSubplot:>"
      ]
     },
     "execution_count": 16,
     "metadata": {},
     "output_type": "execute_result"
    },
    {
     "data": {
      "image/png": "[encoded data removed]",
      "text/plain": [
       "<Figure size 432x288 with 1 Axes>"
      ]
     },
     "metadata": {
      "needs_background": "light"
     },
     "output_type": "display_data"
    }
   ],
   "source": [
    "# https://stackoverflow.com/questions/65708947/change-x-axis-order-of-labels-in-pandas-matplotlib-histogram\n",
    "triage.triage_category.value_counts().loc[['1', '2', '3', '4', '5']].plot.bar()"
   ]
  },
  {
   "cell_type": "code",
   "execution_count": 8,
   "id": "1a5033ff-8b14-495e-b0e8-cb023aeb4e0c",
   "metadata": {},
   "outputs": [],
   "source": [
    "# plt.style.use('ggplot')\n",
    "# possible COVID???"
   ]
  },
  {
   "cell_type": "markdown",
   "id": "6ed4df62-b484-479d-8d8f-968cbf39e92c",
   "metadata": {},
   "source": [
    "### 3. Referral Source\n",
    "The variable referral source has also been noted as a significant factor in the outcome of whether or not a patient is admitted as an inpatient from the emergecny department. In this case I will investigate two different types of referrals, self-referral or GP referral. \n",
    "\n",
    "In the study previously carried out around characteristics of emergency department attendnaces in the Dublin area, it was found that almost 79% of patients are self-referrers. https://www.lenus.ie/bitstream/handle/10147/296824/CharacteristicsEDAttendances.pdf?sequence=1 "
   ]
  },
  {
   "cell_type": "code",
   "execution_count": null,
   "id": "2ef6d557-d200-42be-b824-9e4255eb1ee2",
   "metadata": {},
   "outputs": [],
   "source": []
  },
  {
   "cell_type": "markdown",
   "id": "71def6eb-8dd4-4771-b13c-172183b481ee",
   "metadata": {},
   "source": [
    "### 4. RArrival by Ambulance "
   ]
  },
  {
   "cell_type": "code",
   "execution_count": null,
   "id": "3bcd21da-0eba-44fc-b3f4-fff1307f93ba",
   "metadata": {},
   "outputs": [],
   "source": []
  },
  {
   "cell_type": "markdown",
   "id": "2aac196f-b21a-4efc-9eda-38b3a772e6ef",
   "metadata": {},
   "source": [
    "### Pateint Did not Wait (DNW) to be Seen\n",
    "DNW https://www.health-ni.gov.uk/news/emergency-care-waiting-time-statistics-january-march-2019 percenatge did not wait - UK"
   ]
  },
  {
   "cell_type": "markdown",
   "id": "96740f8e-f68d-4aab-9716-82b29ce3717a",
   "metadata": {},
   "source": [
    "### Patient Experience Time (PET)\n",
    "PET compliance https://www.imo.ie/news-media/publications/Compliance-PP.pdf "
   ]
  },
  {
   "cell_type": "code",
   "execution_count": null,
   "id": "4d641369-b3b0-4964-a555-2d5923b9439f",
   "metadata": {},
   "outputs": [],
   "source": []
  },
  {
   "cell_type": "code",
   "execution_count": null,
   "id": "6a7b4bad-0053-4e81-b9ad-1f3543e29178",
   "metadata": {},
   "outputs": [],
   "source": []
  },
  {
   "cell_type": "code",
   "execution_count": null,
   "id": "0e00b3f3-9027-4a21-8159-e62f23f41385",
   "metadata": {},
   "outputs": [],
   "source": []
  },
  {
   "cell_type": "markdown",
   "id": "6b6b2302-1cd3-4b81-bf7d-1ce76c78b702",
   "metadata": {},
   "source": [
    "https://www.lenus.ie/bitstream/handle/10147/296824/CharacteristicsEDAttendances.pdf?sequence=1 - Characteristics of emergency departments attendances in four Irish teaching hospitals\n",
    "\n"
   ]
  },
  {
   "cell_type": "code",
   "execution_count": null,
   "id": "c17e20b1-6623-4630-beaa-03d48badd342",
   "metadata": {},
   "outputs": [],
   "source": []
  },
  {
   "cell_type": "code",
   "execution_count": null,
   "id": "defd599e-c5ba-46ed-8904-0bca439d37d8",
   "metadata": {},
   "outputs": [],
   "source": []
  }
 ],
 "metadata": {
  "kernelspec": {
   "display_name": "Python 3",
   "language": "python",
   "name": "python3"
  },
  "language_info": {
   "codemirror_mode": {
    "name": "ipython",
    "version": 3
   },
   "file_extension": ".py",
   "mimetype": "text/x-python",
   "name": "python",
   "nbconvert_exporter": "python",
   "pygments_lexer": "ipython3",
   "version": "3.8.8"
  }
 },
 "nbformat": 4,
 "nbformat_minor": 5
}
