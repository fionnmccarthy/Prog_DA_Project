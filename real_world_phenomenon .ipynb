{
 "cells": [
  {
   "cell_type": "markdown",
   "id": "3ee31596-8593-46c6-ae1c-821acf7cd84a",
   "metadata": {},
   "source": [
    "***\n",
    "***\n",
    "# Programming for Data Analysis Project \n",
    "***\n",
    "***\n",
    "\n",
    "## Simulating a Data Set for a Real-world Phenomenon\n",
    "\n",
    "## Fionn McCarthy\n",
    "\n",
    "## Project Scope\n",
    "The aim of this project is to create a data set by simulation of a real-world phenomenon of choice. This jupyter notebook will detail the research and investigation into this real-world phenomenon and how the different variables in the data set relate to each and how they are derived. \n",
    "\n",
    "I will carry out research into variables of interest in this area and utilize the different libraries and functions available in python in order to create the dataset. For the purpose of this project I wanted to simulate the real-world phenomenon of emergency department data, I have a backgroud in healthcare and I think it would be interesting to simulate data based on the emergency department. I decided to explore many different variables for the simulation of this dataset. I aim to generate a dataset that will show a patients record for admission (yes/no), whether patient did not wait to be seen, triage category, patient wait times (total time in the emergency department), arrival by ambulance, source of referral, patient gender and patients age. \n",
    "\n",
    "![xplotoutput](images/ed.jpg)\n",
    "\n",
    "In Ireland Emergency Departments bear a constant headline in the news on a daily basis, this is prior to the current COVID-19 pandemic and has also been a constant presence throughout the pandemic and it appears to be an issue that may seem to be in the public health sector for quite some time in our future. I found an annual review from UL Hospitals Group available online for 2019 which detailed some figures around the emergency department, the Emergency Department at UHL in Limerick had on average of 195 patients per day over the course of 2019 with a total of 71,315 patients presenting in 2019(https://healthservice.hse.ie/filelibrary/ulh/ul-hospitals-group-annual-review-2019.pdf). UL Hospitals Group is a Public Acute Hospital Acute catering for the mid-west region of Ireland catering for a population of approximately 473,000 people across Clare, Limerick and North Tipperary(https://healthservice.hse.ie/healthcare-delivery/ul-hospitals-group/about-ul-hospitals-group/about-ul-hospitals-group.html). I will generate a dataset containing data based off one day of hospital emergency department attendances. "
   ]
  },
  {
   "cell_type": "markdown",
   "id": "e082218b-1e23-4a4a-8175-03632609f44e",
   "metadata": {},
   "source": [
    "## Variables of Data Set\n",
    "\n",
    "### 1. Admission (yes/no)\n",
    "I decided the most interesting variable from the dataset was whether the patient was admitted as an inpatient or not, as generally whether or not the patient needed to be admitted as an inpatient would be determined by how ill the patient would be when attending the emergency department along with other patient characteristics. I will use the other information on the patients attendance in order to generate this variable. \n",
    "\n",
    "If a patient can be treated at the emergency department and then be sent home again once treated then they will not require admission as an inpatient, an inpatient is a patient that requires an overnight stay on the hospital ward. The hospital ward is a separate section in the hospital to the emergency department. The decision on whether to admit the patient or not would come down to the Senior Emergency Department Consultants with the advice of their team.\n",
    "\n",
    "An analysis of patient characterisitcs at four Irish teaching hospitals in the Dublin area showed that around one in four patients are admitted as inpatients from emergency departments (https://www.lenus.ie/bitstream/handle/10147/296824/CharacteristicsEDAttendances.pdf?sequence=1). \n"
   ]
  },
  {
   "cell_type": "markdown",
   "id": "96736c19-5063-4501-9ef6-5d851bb26aec",
   "metadata": {},
   "source": [
    "### 2. Patient Age\n",
    "The variable patient age is the age of the patient at the time of registration to the emergency department. There age of patients attending an emergency department will depend on age cohorts of patients in that particular region. In 2019 the Department of Health prepared a paper called 'Health in Ireland' where it provides summary information on health and healthcare in Ireland over the previous ten years https://assets.gov.ie/45117/6a4f970018d6477bac38f4539f80e927.pdf. The population characteristics presenetd in this publication are based off the 2016 cencus and projections are made for figures for the 2019 year. The below image derives the population distributions across Ireland for 2019: \n",
    "\n",
    "![xplotoutput](images/population.png)\n",
    "\n",
    "I will utilize the above information in order to simulate the age demographic of each patient within the dataset. I will uniformly distribute the age of each patient between each age category. "
   ]
  },
  {
   "cell_type": "code",
   "execution_count": 22,
   "id": "5029fe22-df86-42d7-bce2-d8f9c95d7a6a",
   "metadata": {},
   "outputs": [
    {
     "data": {
      "image/png": "[encoded data removed]",
      "text/plain": [
       "<Figure size 432x288 with 1 Axes>"
      ]
     },
     "metadata": {
      "needs_background": "light"
     },
     "output_type": "display_data"
    }
   ],
   "source": [
    "# https://www.geeksforgeeks.org/create-a-pandas-dataframe-from-lists/\n",
    "# import pandas as pd\n",
    "import pandas as pd\n",
    "  \n",
    "# list of age groups\n",
    "age = ['0-14', '15-24', '25-34', '35-44', '45-54', '55-64', '65-74', '75-84', '85+']\n",
    "\n",
    "# list of populations in 000's\n",
    "population = [1008.9, 618.0, 620.0, 776.9, 661.6, 539.7, 404.1, 214.9, 77.3]\n",
    "\n",
    "# sum population \n",
    "population_total = 1008.9 + 618.0 + 620.0 + 776.9 + 661.6 + 539.7 + 404.1 + 214.9 + 77.3\n",
    "\n",
    "#  create array of population percent \n",
    "population_percent = [(i / population_total)*100 for i in population]\n",
    "\n",
    "df = pd.DataFrame(list(zip(age, population, population_percent)), columns =['Age_Cat', 'Population in 000s', 'Pop%'])\n",
    "df\n",
    "\n",
    "ax = df.plot.bar(x='Age_Cat', y='Population in 000s', rot=0)"
   ]
  },
  {
   "cell_type": "markdown",
   "id": "768c2f0d-c60e-4a24-ab7e-9d38017e0b85",
   "metadata": {},
   "source": [
    "### 3. Triage Category \n",
    "\n",
    "Triage category is the Manchester Triage Score system which is utilized across all Irish emergency departments, it enables the triage nurse (nurse who first assesses patient) to evaluate the urgency of the attendance to the emergency department. The triage burse will assign a clinical priority to the patient upon evaluation whic is solely based off signs and sypmtoms and not from underlying conditions (https://www.hse.ie/eng/services/publications/clinical-strategy-and-programmes/infographic-emergency-medicine.pdf). \n",
    "\n",
    "![xplotoutput](images/triage.jpg)\n",
    "\n",
    "image source: https://www.hse.ie/eng/services/publications/clinical-strategy-and-programmes/infographic-emergency-medicine.pdf\n",
    "\n",
    "In order to simulate such a categorical varibale, I investigated what proportions of patients attended via each triage categories at other emergency departments around the world. A study on 'Agreement between triage category and patient’s perception of priority in emergency departments' was carried out on across eight emergency department's in Queensland in Australia shows the assigned triage categories for 406 pateints that were sampled. 0.2% were assigned triage category 1, 6.7% triage category 2, 33% triage category 3, 52.5% triage category 4 and 7.6% triage category 5 https://www.ncbi.nlm.nih.gov/pmc/articles/PMC5070359/. "
   ]
  },
  {
   "cell_type": "code",
   "execution_count": 1,
   "id": "1a5033ff-8b14-495e-b0e8-cb023aeb4e0c",
   "metadata": {},
   "outputs": [],
   "source": [
    "# plt.style.use('ggplot')\n",
    "# possible COVID???"
   ]
  },
  {
   "cell_type": "markdown",
   "id": "2aac196f-b21a-4efc-9eda-38b3a772e6ef",
   "metadata": {},
   "source": [
    "### Pateint Did not Wait (DNW) to be Seen\n",
    "DNW https://www.health-ni.gov.uk/news/emergency-care-waiting-time-statistics-january-march-2019 percenatge did not wait - UK"
   ]
  },
  {
   "cell_type": "markdown",
   "id": "96740f8e-f68d-4aab-9716-82b29ce3717a",
   "metadata": {},
   "source": [
    "### Patient Experience Time (PET)\n",
    "PET compliance https://www.imo.ie/news-media/publications/Compliance-PP.pdf "
   ]
  },
  {
   "cell_type": "code",
   "execution_count": null,
   "id": "4d641369-b3b0-4964-a555-2d5923b9439f",
   "metadata": {},
   "outputs": [],
   "source": []
  },
  {
   "cell_type": "code",
   "execution_count": null,
   "id": "6a7b4bad-0053-4e81-b9ad-1f3543e29178",
   "metadata": {},
   "outputs": [],
   "source": []
  },
  {
   "cell_type": "code",
   "execution_count": null,
   "id": "0e00b3f3-9027-4a21-8159-e62f23f41385",
   "metadata": {},
   "outputs": [],
   "source": []
  },
  {
   "cell_type": "markdown",
   "id": "6b6b2302-1cd3-4b81-bf7d-1ce76c78b702",
   "metadata": {},
   "source": [
    "https://www.lenus.ie/bitstream/handle/10147/296824/CharacteristicsEDAttendances.pdf?sequence=1 - Characteristics of emergency departments attendances in four Irish teaching hospitals\n",
    "\n"
   ]
  },
  {
   "cell_type": "code",
   "execution_count": null,
   "id": "c17e20b1-6623-4630-beaa-03d48badd342",
   "metadata": {},
   "outputs": [],
   "source": []
  },
  {
   "cell_type": "code",
   "execution_count": null,
   "id": "defd599e-c5ba-46ed-8904-0bca439d37d8",
   "metadata": {},
   "outputs": [],
   "source": []
  }
 ],
 "metadata": {
  "kernelspec": {
   "display_name": "Python 3",
   "language": "python",
   "name": "python3"
  },
  "language_info": {
   "codemirror_mode": {
    "name": "ipython",
    "version": 3
   },
   "file_extension": ".py",
   "mimetype": "text/x-python",
   "name": "python",
   "nbconvert_exporter": "python",
   "pygments_lexer": "ipython3",
   "version": "3.8.8"
  }
 },
 "nbformat": 4,
 "nbformat_minor": 5
}
